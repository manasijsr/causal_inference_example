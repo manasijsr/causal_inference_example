{
 "cells": [
  {
   "cell_type": "markdown",
   "metadata": {},
   "source": [
    "- Since we do not have live experiment data let's make use of some synthetic data\n",
    "- causalml.dataset module provides utility functions to generate synthetic data\n",
    "- We can specify various configurations to generate synthetic data such as:\n",
    "- - n : Number of samples\n",
    "- - p : Number of covariates (i.e. number of features)\n",
    "- It returns the following:\n",
    "- - y : outcome array (i.e. synthetic outcome from the experiments), in this case these are continuous variable\n",
    "- - X : Independent variables of dimensions n,p\n",
    "- - w : Treatment flag, 0 signifies control\n",
    "- - tau : ITE\n",
    "- - b : Expected outsome\n",
    "- - e : Propensity of receiving treatment"
   ]
  },
  {
   "cell_type": "code",
   "execution_count": 1,
   "metadata": {},
   "outputs": [
    {
     "name": "stdout",
     "output_type": "stream",
     "text": [
      "Sample outcome: [1.27648274 2.86010907 2.19068981 2.19385831 3.00888889]\n",
      "Sample independent variables: [[0.53815609 0.99937586 0.7999792  0.00416606 0.9715307 ]\n",
      " [0.7648678  0.72510838 0.86039634 0.92684141 0.79977226]\n",
      " [0.07446032 0.25089329 0.8692077  0.51098639 0.86212467]\n",
      " [0.61163504 0.40759826 0.97159678 0.69027405 0.99513741]\n",
      " [0.2145972  0.59304468 0.49659091 0.36907764 0.33733784]]\n",
      "Treatment Data Count = 5244\n",
      "Control Data Count = 4756\n",
      "Sample ITE: [0.76876598 0.74498809 0.16267681 0.50961665 0.40382094]\n"
     ]
    }
   ],
   "source": [
    "import warnings\n",
    "warnings.filterwarnings(\"ignore\")\n",
    "\n",
    "import numpy as np\n",
    "from causalml.dataset import synthetic_data\n",
    "\n",
    "y, X, treatment_flags, ite_list, exp_outcome_list, e = synthetic_data(mode=1, n=10_000, p=5, sigma=1.0)\n",
    "\n",
    "print(f\"Sample outcome: {y[:5]}\")\n",
    "print(f\"Sample independent variables: {X[:5]}\")\n",
    "\n",
    "print(f\"Treatment Data Count = {np.count_nonzero(treatment_flags)}\")\n",
    "print(f\"Control Data Count = {len(y) - np.count_nonzero(treatment_flags)}\")\n",
    "\n",
    "print(f\"Sample ITE: {ite_list[:5]}\")\n"
   ]
  },
  {
   "cell_type": "markdown",
   "metadata": {},
   "source": [
    "- Now we have set of synthetic data with continuous outcome variable and independent variables\n",
    "- Let's try out one Causal Inference Algorithm to estimate ATE"
   ]
  },
  {
   "cell_type": "markdown",
   "metadata": {},
   "source": [
    "- LRSRegressor : this is a type of S Learner Regressor\n",
    "- We can specify the following parameters while creating the instance of this regressor:\n",
    "- - ate_alpha = Confidence level of ATE estimation, default is 0.05\n",
    "- - control_name = string or int value representing the control samples, by default it's 0. This is used to identify control samples when we call estimate_ate()"
   ]
  },
  {
   "cell_type": "code",
   "execution_count": 2,
   "metadata": {},
   "outputs": [
    {
     "name": "stdout",
     "output_type": "stream",
     "text": [
      "LRSRegressor(model=<causalml.inference.meta.slearner.StatsmodelsOLS object at 0x7fa968817220>)\n"
     ]
    }
   ],
   "source": [
    "from causalml.inference.meta import LRSRegressor\n",
    "\n",
    "lr = LRSRegressor()\n",
    "print(lr)"
   ]
  },
  {
   "cell_type": "markdown",
   "metadata": {},
   "source": [
    "- Estimate ATE with upper and lower bound based on pre-set confidence level alpha of 0.05"
   ]
  },
  {
   "cell_type": "code",
   "execution_count": 6,
   "metadata": {},
   "outputs": [
    {
     "name": "stdout",
     "output_type": "stream",
     "text": [
      "Confidence Level Alpha = 0.05\n",
      "ATE = 0.68, Range : 0.63:0.72\n"
     ]
    }
   ],
   "source": [
    "te, lb, ub = lr.estimate_ate(X, treatment_flags, y)\n",
    "print(f\"Confidence Level Alpha = {lr.ate_alpha}\")\n",
    "print(f\"ATE = {np.round(te[0], 2)}, Range : {np.round(lb[0], 2)}:{np.round(ub[0], 2)}\")"
   ]
  },
  {
   "cell_type": "markdown",
   "metadata": {},
   "source": [
    "- As can be seen, on the synthetic data of 10K the Averare Treatment Effect was 0.68 with Range of 0.63 to 0.72\n",
    "- The synthetic data had 5 independent variables\n",
    "- We now know the true impact of our treatment and based on business adoption use cae we can decide the ROI to decide full scale adoption of this change"
   ]
  },
  {
   "cell_type": "code",
   "execution_count": null,
   "metadata": {},
   "outputs": [],
   "source": []
  }
 ],
 "metadata": {
  "interpreter": {
   "hash": "6de7f53934b914d851363d29193031f531f3342fe496d25808774e8e1d6fcee5"
  },
  "kernelspec": {
   "display_name": "Python 3.8.13 64-bit ('python38': conda)",
   "language": "python",
   "name": "python3"
  },
  "language_info": {
   "codemirror_mode": {
    "name": "ipython",
    "version": 3
   },
   "file_extension": ".py",
   "mimetype": "text/x-python",
   "name": "python",
   "nbconvert_exporter": "python",
   "pygments_lexer": "ipython3",
   "version": "3.8.13"
  },
  "orig_nbformat": 4
 },
 "nbformat": 4,
 "nbformat_minor": 2
}
